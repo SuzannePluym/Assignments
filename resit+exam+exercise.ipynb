{
 "cells": [
  {
   "cell_type": "markdown",
   "metadata": {},
   "source": [
    "# Exam\n",
    "\n",
    "Use the following table to provide us with\n",
    "\n",
    "|name | exam number|\n",
    "|----|----|\n",
    "|Suzanne Pluym| 2001909|\n",
    "|other group member's name| exam number|\n",
    "\n",
    "## Introduction and loading the data\n",
    "\n",
    "In this resit we will work with data about budget shares of British households. A description of the data can be found on:\n",
    "[link](https://vincentarelbundock.github.io/Rdatasets/doc/Ecdat/BudgetUK.html)\n",
    "\n",
    "You will need to load the following packages:\n",
    "dplyr\n",
    "ggplot2"
   ]
  },
  {
   "cell_type": "code",
   "execution_count": 6,
   "metadata": {
    "collapsed": false
   },
   "outputs": [],
   "source": [
    "library(ggplot2)\n",
    "library(dplyr)"
   ]
  },
  {
   "cell_type": "markdown",
   "metadata": {},
   "source": [
    "First, read in the dataset BudgetUK.csv and call the dataset \"budget\".\n"
   ]
  },
  {
   "cell_type": "code",
   "execution_count": 7,
   "metadata": {
    "collapsed": true
   },
   "outputs": [],
   "source": [
    "budget <- read.csv2('BudgetUK.csv')"
   ]
  },
  {
   "cell_type": "markdown",
   "metadata": {},
   "source": [
    "And then look at the structure of the dataframe"
   ]
  },
  {
   "cell_type": "code",
   "execution_count": 8,
   "metadata": {
    "collapsed": false
   },
   "outputs": [
    {
     "name": "stdout",
     "output_type": "stream",
     "text": [
      "'data.frame':\t1519 obs. of  11 variables:\n",
      " $ id      : int  1 2 3 4 5 6 7 8 9 10 ...\n",
      " $ wfood   : Factor w/ 1230 levels \"0.0571\",\"0.0652\",..: 906 683 79 968 512 690 234 992 487 1016 ...\n",
      " $ wfuel   : Factor w/ 959 levels \"0\",\"0.0108\",\"0.0144\",..: 750 858 957 708 441 168 503 915 592 279 ...\n",
      " $ wcloth  : Factor w/ 1086 levels \"0\",\"0.0012\",\"0.0017\",..: 1 54 2 291 220 585 248 566 769 129 ...\n",
      " $ walc    : Factor w/ 891 levels \"0\",\"0.0011\",\"0.0013\",..: 65 531 358 288 773 143 100 108 211 243 ...\n",
      " $ wtrans  : Factor w/ 1156 levels \"0\",\"0.001\",\"0.0012\",..: 668 553 884 277 961 422 94 1 182 838 ...\n",
      " $ wother  : Factor w/ 1237 levels \"0.0361\",\"0.0373\",..: 789 621 163 745 188 1007 1222 450 959 559 ...\n",
      " $ totexp  : int  50 90 180 80 90 70 140 50 100 90 ...\n",
      " $ income  : int  130 150 230 100 100 70 190 100 260 110 ...\n",
      " $ age     : int  25 39 47 33 31 24 46 25 30 41 ...\n",
      " $ children: int  2 2 2 2 1 1 1 1 1 1 ...\n"
     ]
    }
   ],
   "source": [
    "str(budget)"
   ]
  },
  {
   "cell_type": "markdown",
   "metadata": {},
   "source": [
    "Please convert all variables to numeric ones, except ID and children\n",
    "Please note that if you convert \"factors\" into numerical variables, things go wrong. That is because R converts the \"level\" of the factor to an integer. So, if we want to convert factors to numerics we will use:\n",
    "as.numeric(as.character). See this example:\n"
   ]
  },
  {
   "cell_type": "code",
   "execution_count": 9,
   "metadata": {
    "collapsed": true
   },
   "outputs": [],
   "source": [
    "budget$wfood <- as.numeric(as.character(budget$wfood))"
   ]
  },
  {
   "cell_type": "markdown",
   "metadata": {},
   "source": [
    "Please change the variables and you should convert the variable \"children\" in a factor"
   ]
  },
  {
   "cell_type": "code",
   "execution_count": 10,
   "metadata": {
    "collapsed": false
   },
   "outputs": [
    {
     "name": "stderr",
     "output_type": "stream",
     "text": [
      "Warning message in eval(expr, envir, enclos):\n",
      "\"NAs introduced by coercion\"Warning message in eval(expr, envir, enclos):\n",
      "\"NAs introduced by coercion\""
     ]
    }
   ],
   "source": [
    "budget$wfuel <- as.numeric(as.character(budget$wfuel))\n",
    "budget$wcloth <- as.numeric(as.character(budget$wcloth))\n",
    "budget$walc <- as.numeric(as.character(budget$walc))\n",
    "budget$wtrans <- as.numeric(as.character(budget$wtrans))\n",
    "budget$wother <- as.numeric(as.character(budget$wother))\n",
    "budget$totexp <- as.numeric(budget$totexp)\n",
    "budget$income <- as.numeric(budget$income)\n",
    "budget$age <- as.numeric(budget$age)\n",
    "budget$children <- as.factor(budget$children)"
   ]
  },
  {
   "cell_type": "markdown",
   "metadata": {},
   "source": [
    "Now, you will need to make a new dataframe called \"budget1\" based on the dataframe \"budget\" and then add a column with the name \"totalbudget\" which is the sum of wfood, wfuel, wcloth, walc, wtrans and wother."
   ]
  },
  {
   "cell_type": "code",
   "execution_count": 12,
   "metadata": {
    "collapsed": false
   },
   "outputs": [
    {
     "data": {
      "text/html": [
       "<table>\n",
       "<thead><tr><th scope=col>id</th><th scope=col>wfood</th><th scope=col>wfuel</th><th scope=col>wcloth</th><th scope=col>walc</th><th scope=col>wtrans</th><th scope=col>wother</th><th scope=col>totexp</th><th scope=col>income</th><th scope=col>age</th><th scope=col>children</th><th scope=col>totalbudget</th></tr></thead>\n",
       "<tbody>\n",
       "\t<tr><td>1     </td><td>0.4272</td><td>0.1342</td><td>0.0000</td><td>0.0106</td><td>0.1458</td><td>0.2822</td><td> 50   </td><td>130   </td><td>25    </td><td>2     </td><td>1.0000</td></tr>\n",
       "\t<tr><td>2     </td><td>0.3739</td><td>0.1686</td><td>0.0091</td><td>0.0825</td><td>0.1215</td><td>0.2444</td><td> 90   </td><td>150   </td><td>39    </td><td>2     </td><td>1.0000</td></tr>\n",
       "\t<tr><td>3     </td><td>0.1941</td><td>0.4056</td><td>0.0012</td><td>0.0513</td><td>0.2063</td><td>0.1415</td><td>180   </td><td>230   </td><td>47    </td><td>2     </td><td>1.0000</td></tr>\n",
       "\t<tr><td>4     </td><td>0.4438</td><td>0.1258</td><td>0.0539</td><td>0.0397</td><td>0.0652</td><td>0.2716</td><td> 80   </td><td>100   </td><td>33    </td><td>2     </td><td>1.0000</td></tr>\n",
       "\t<tr><td>5     </td><td>0.3331</td><td>0.0824</td><td>0.0399</td><td>0.1571</td><td>0.2403</td><td>0.1473</td><td> 90   </td><td>100   </td><td>31    </td><td>1     </td><td>1.0001</td></tr>\n",
       "\t<tr><td>6     </td><td>0.3752</td><td>0.0481</td><td>0.1170</td><td>0.0210</td><td>0.0955</td><td>0.3431</td><td> 70   </td><td> 70   </td><td>24    </td><td>1     </td><td>0.9999</td></tr>\n",
       "</tbody>\n",
       "</table>\n"
      ],
      "text/latex": [
       "\\begin{tabular}{r|llllllllllll}\n",
       " id & wfood & wfuel & wcloth & walc & wtrans & wother & totexp & income & age & children & totalbudget\\\\\n",
       "\\hline\n",
       "\t 1      & 0.4272 & 0.1342 & 0.0000 & 0.0106 & 0.1458 & 0.2822 &  50    & 130    & 25     & 2      & 1.0000\\\\\n",
       "\t 2      & 0.3739 & 0.1686 & 0.0091 & 0.0825 & 0.1215 & 0.2444 &  90    & 150    & 39     & 2      & 1.0000\\\\\n",
       "\t 3      & 0.1941 & 0.4056 & 0.0012 & 0.0513 & 0.2063 & 0.1415 & 180    & 230    & 47     & 2      & 1.0000\\\\\n",
       "\t 4      & 0.4438 & 0.1258 & 0.0539 & 0.0397 & 0.0652 & 0.2716 &  80    & 100    & 33     & 2      & 1.0000\\\\\n",
       "\t 5      & 0.3331 & 0.0824 & 0.0399 & 0.1571 & 0.2403 & 0.1473 &  90    & 100    & 31     & 1      & 1.0001\\\\\n",
       "\t 6      & 0.3752 & 0.0481 & 0.1170 & 0.0210 & 0.0955 & 0.3431 &  70    &  70    & 24     & 1      & 0.9999\\\\\n",
       "\\end{tabular}\n"
      ],
      "text/markdown": [
       "\n",
       "id | wfood | wfuel | wcloth | walc | wtrans | wother | totexp | income | age | children | totalbudget | \n",
       "|---|---|---|---|---|---|\n",
       "| 1      | 0.4272 | 0.1342 | 0.0000 | 0.0106 | 0.1458 | 0.2822 |  50    | 130    | 25     | 2      | 1.0000 | \n",
       "| 2      | 0.3739 | 0.1686 | 0.0091 | 0.0825 | 0.1215 | 0.2444 |  90    | 150    | 39     | 2      | 1.0000 | \n",
       "| 3      | 0.1941 | 0.4056 | 0.0012 | 0.0513 | 0.2063 | 0.1415 | 180    | 230    | 47     | 2      | 1.0000 | \n",
       "| 4      | 0.4438 | 0.1258 | 0.0539 | 0.0397 | 0.0652 | 0.2716 |  80    | 100    | 33     | 2      | 1.0000 | \n",
       "| 5      | 0.3331 | 0.0824 | 0.0399 | 0.1571 | 0.2403 | 0.1473 |  90    | 100    | 31     | 1      | 1.0001 | \n",
       "| 6      | 0.3752 | 0.0481 | 0.1170 | 0.0210 | 0.0955 | 0.3431 |  70    |  70    | 24     | 1      | 0.9999 | \n",
       "\n",
       "\n"
      ],
      "text/plain": [
       "  id wfood  wfuel  wcloth walc   wtrans wother totexp income age children\n",
       "1 1  0.4272 0.1342 0.0000 0.0106 0.1458 0.2822  50    130    25  2       \n",
       "2 2  0.3739 0.1686 0.0091 0.0825 0.1215 0.2444  90    150    39  2       \n",
       "3 3  0.1941 0.4056 0.0012 0.0513 0.2063 0.1415 180    230    47  2       \n",
       "4 4  0.4438 0.1258 0.0539 0.0397 0.0652 0.2716  80    100    33  2       \n",
       "5 5  0.3331 0.0824 0.0399 0.1571 0.2403 0.1473  90    100    31  1       \n",
       "6 6  0.3752 0.0481 0.1170 0.0210 0.0955 0.3431  70     70    24  1       \n",
       "  totalbudget\n",
       "1 1.0000     \n",
       "2 1.0000     \n",
       "3 1.0000     \n",
       "4 1.0000     \n",
       "5 1.0001     \n",
       "6 0.9999     "
      ]
     },
     "metadata": {},
     "output_type": "display_data"
    }
   ],
   "source": [
    "budget1 <- mutate(budget, totalbudget = wfood + wfuel + wcloth + walc + wtrans + wother)\n",
    "head(budget1)"
   ]
  },
  {
   "cell_type": "markdown",
   "metadata": {},
   "source": [
    "## Graphs:\n",
    "\n",
    "First make a scatterplot with wcloth on the x-axis, wfood on the y-axis and give a different color for the different numbers of children. PLease add regression lines and confidence intervals. \n",
    "For extra points:\n",
    "Change the title for the x-axis in \"share of budget for clothing\" and the y-axis in \"Share of budget for food\".\n"
   ]
  },
  {
   "cell_type": "code",
   "execution_count": 14,
   "metadata": {
    "collapsed": false
   },
   "outputs": [
    {
     "name": "stderr",
     "output_type": "stream",
     "text": [
      "Warning message:\n",
      "\"Removed 1 rows containing non-finite values (stat_smooth).\"Warning message:\n",
      "\"Removed 1 rows containing missing values (geom_point).\""
     ]
    },
    {
     "data": {},
     "metadata": {},
     "output_type": "display_data"
    },
    {
     "data": {
      "image/png": "[encoded data removed]",
      "text/plain": [
       "plot without title"
      ]
     },
     "metadata": {},
     "output_type": "display_data"
    }
   ],
   "source": [
    "ggplot(budget1, aes(x = wcloth, y = wfood, col = children)) +\n",
    "geom_point() + geom_smooth(method=lm) + \n",
    "labs (x = 'Share of budget for clothing', y = 'Share of budget for food')"
   ]
  },
  {
   "cell_type": "markdown",
   "metadata": {},
   "source": [
    "We should make a second graph. You should make a bar chart with age on the x-axis and wfood on the y-axis. Give different colors for the number of children. The graph should be \"stacked\" (bars on top of each other). You can extra points if you can change the colors to red and blue."
   ]
  },
  {
   "cell_type": "code",
   "execution_count": 34,
   "metadata": {
    "collapsed": false
   },
   "outputs": [
    {
     "data": {},
     "metadata": {},
     "output_type": "display_data"
    },
    {
     "data": {
      "image/png": "[encoded data removed]",
      "text/plain": [
       "plot without title"
      ]
     },
     "metadata": {},
     "output_type": "display_data"
    }
   ],
   "source": [
    "ggplot(budget1, aes(x = age, y = wfood, fill = children)) +\n",
    "    geom_bar(stat=\"identity\")"
   ]
  },
  {
   "cell_type": "markdown",
   "metadata": {},
   "source": [
    "I tried changing the colours to red and blue by usig the following code:"
   ]
  },
  {
   "cell_type": "code",
   "execution_count": 35,
   "metadata": {
    "collapsed": false
   },
   "outputs": [
    {
     "data": {},
     "metadata": {},
     "output_type": "display_data"
    },
    {
     "data": {
      "image/png": "[encoded data removed]",
      "text/plain": [
       "plot without title"
      ]
     },
     "metadata": {},
     "output_type": "display_data"
    }
   ],
   "source": [
    "ggplot(budget1, aes(x = age, y = wfood, fill = children)) +\n",
    "    geom_bar(stat=\"identity\", fill = c('red', 'blue'))"
   ]
  },
  {
   "cell_type": "raw",
   "metadata": {},
   "source": [
    "Unfortunately, this gives a blank screen. I couldn't figure out why this happens, so I decided to leave the colours as the are."
   ]
  },
  {
   "cell_type": "markdown",
   "metadata": {},
   "source": [
    "## Extra points:\n",
    "\n",
    "You can earn extra points you are able to produce a dataframe with the observations of which the totalbudget is not nearly 1. As you might have observed, there are a few NA's is the dataset. \n",
    "First set the NA's in the dataset to 0.\n",
    "Then, You should round the numbers first with zero decimals and then convert them into integers.\n",
    "\n",
    "Finally make a dataframe \"warning\" with observations that have a totalbudget that is not equal to 1 and show the dataframe with the command warning."
   ]
  },
  {
   "cell_type": "code",
   "execution_count": 12,
   "metadata": {
    "collapsed": true
   },
   "outputs": [],
   "source": []
  },
  {
   "cell_type": "code",
   "execution_count": 13,
   "metadata": {
    "collapsed": true
   },
   "outputs": [],
   "source": []
  },
  {
   "cell_type": "code",
   "execution_count": null,
   "metadata": {
    "collapsed": false
   },
   "outputs": [],
   "source": []
  },
  {
   "cell_type": "code",
   "execution_count": null,
   "metadata": {
    "collapsed": true
   },
   "outputs": [],
   "source": []
  }
 ],
 "metadata": {
  "anaconda-cloud": {},
  "kernelspec": {
   "display_name": "R",
   "language": "R",
   "name": "ir"
  },
  "language_info": {
   "codemirror_mode": "r",
   "file_extension": ".r",
   "mimetype": "text/x-r-source",
   "name": "R",
   "pygments_lexer": "r",
   "version": "3.3.2"
  }
 },
 "nbformat": 4,
 "nbformat_minor": 1
}
